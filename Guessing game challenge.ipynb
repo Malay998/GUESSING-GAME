{
 "cells": [
  {
   "cell_type": "markdown",
   "metadata": {},
   "source": [
    "# Guessing Game Challenge"
   ]
  },
  {
   "cell_type": "markdown",
   "metadata": {},
   "source": [
    "Write a program that picks a random integer from 1 to 100, and has players guess the number. The rules are:\n",
    "1. If a player's guess is less than 1 or greater than 100, say \"OUT OF BOUNDS\"\n",
    "2. On a player's first turn, if their guess is\n",
    "\n",
    "   * within 10 of the number, return \"WARM!\"\n",
    "   * further than 10 away from the number, return \"COLD!\"\n",
    "\n",
    "3. On all subsequent turns, if a guess is\n",
    "\n",
    "   * closer to the number than the previous guess return \"WARMER!\"\n",
    "   * farther from the number than the previous guess, return \"COLDER!\"\n",
    "\n",
    "\n",
    "4. When the player's guess equals the number, tell them they've guessed correctly and how many guesses it took!\n"
   ]
  },
  {
   "cell_type": "code",
   "execution_count": 2,
   "metadata": {
    "scrolled": true
   },
   "outputs": [
    {
     "name": "stdout",
     "output_type": "stream",
     "text": [
      "WELCOME TO GUESS ME!\n",
      "I'm thinking of a number between 1 and 100\n",
      "If your guess is 10 away from my number, I'll tell you you're COLD!\n",
      "If your guess is within 10 of my number, I'll tell you you're WARM!\n",
      "If your guess is farther than your most recent guesses, I'll tell you you're COLDER!\n",
      "If your guess is closer than your most recent guesses, I'll tell you you're WARMER!\n",
      "Lets play\n",
      "\n",
      "65\n",
      "I'm thinking of a number between (1-100). What is your number?\n",
      "65\n",
      "Guessed correctly\n",
      "You guessed 65 and it took 1 tries\n"
     ]
    }
   ],
   "source": [
    "print(\"WELCOME TO GUESS ME!\")\n",
    "print(\"I'm thinking of a number between 1 and 100\")\n",
    "print(\"If your guess is 10 away from my number, I'll tell you you're COLD!\")\n",
    "print(\"If your guess is within 10 of my number, I'll tell you you're WARM!\")\n",
    "print(\"If your guess is farther than your most recent guesses, I'll tell you you're COLDER!\")\n",
    "print(\"If your guess is closer than your most recent guesses, I'll tell you you're WARMER!\")\n",
    "print(\"Lets play\\n\")\n",
    "\n",
    "from random import randint\n",
    "\n",
    "mine = randint(1,100)\n",
    "print(mine)\n",
    "\n",
    "mylist = [0]\n",
    "\n",
    "while True:\n",
    "    \n",
    "    guess = int(input(\"I'm thinking of a number between (1-100). What is your number?\\n\"))\n",
    "    \n",
    "    mylist.append(guess)\n",
    "    \n",
    "    #print(f\"mylist = {mylist}\")\n",
    "    \n",
    "    if guess == mine:\n",
    "        print(\"Guessed correctly\")\n",
    "        print(f\"You guessed {guess} and it took {len(mylist)-1} tries\")\n",
    "        break\n",
    "    \n",
    "    if guess < 1 or guess > 100:\n",
    "        print(\"OUT OF BOUNDS! PLease try again!\")\n",
    "        continue\n",
    "    \n",
    "    x = abs(guess - mine)\n",
    "    \n",
    "    if mylist[-2]:                        # this statement will not run unless and until [-2] is '0'.\n",
    "        \n",
    "        x1 = abs(mylist[-2] - mine)\n",
    "        \n",
    "        if x < x1:\n",
    "            print(\"WARMER!\")\n",
    "        else:\n",
    "            print(\"COLDER!\")\n",
    "            \n",
    "    \n",
    "    else:\n",
    "        if x <= 10:\n",
    "            print(\"WARM\")\n",
    "        else:\n",
    "            print(\"COLD\")\n",
    "        \n"
   ]
  },
  {
   "cell_type": "code",
   "execution_count": null,
   "metadata": {},
   "outputs": [],
   "source": []
  }
 ],
 "metadata": {
  "kernelspec": {
   "display_name": "Python 3",
   "language": "python",
   "name": "python3"
  },
  "language_info": {
   "codemirror_mode": {
    "name": "ipython",
    "version": 3
   },
   "file_extension": ".py",
   "mimetype": "text/x-python",
   "name": "python",
   "nbconvert_exporter": "python",
   "pygments_lexer": "ipython3",
   "version": "3.7.6"
  }
 },
 "nbformat": 4,
 "nbformat_minor": 4
}
